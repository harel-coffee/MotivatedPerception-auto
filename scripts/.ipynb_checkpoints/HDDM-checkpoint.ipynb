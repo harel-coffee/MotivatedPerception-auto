{
 "cells": [
  {
   "cell_type": "markdown",
   "metadata": {},
   "source": [
    "# HDDM Analysis\n",
    "\n",
    "This script fits DDMs to participants' choice and reaction time data. We ran the model with 100000 samples to estimate a smooth posterior, but the fitting process takes really long. For faster fitting, you can reduce the number of samples."
   ]
  },
  {
   "cell_type": "code",
   "execution_count": 1,
   "metadata": {
    "scrolled": true
   },
   "outputs": [
    {
     "name": "stderr",
     "output_type": "stream",
     "text": [
      "/anaconda/lib/python2.7/site-packages/IPython/parallel.py:13: ShimWarning: The `IPython.parallel` package has been deprecated since IPython 4.0. You should import from ipyparallel instead.\n",
      "  \"You should import from ipyparallel instead.\", ShimWarning)\n"
     ]
    }
   ],
   "source": [
    "import pandas as pd\n",
    "import matplotlib.pyplot as plt\n",
    "import hddm\n",
    "import numpy as np\n",
    "\n",
    "samples = 100000\n",
    "\n",
    "data = hddm.load_csv('../data/ScannerData_CombinedOnly.csv')"
   ]
  },
  {
   "cell_type": "markdown",
   "metadata": {},
   "source": [
    "## Full Model\n",
    "Run z and v model with 100000 samples"
   ]
  },
  {
   "cell_type": "code",
   "execution_count": null,
   "metadata": {
    "collapsed": true
   },
   "outputs": [],
   "source": [
    "full_model = hddm.HDDM(data, bias=True, p_outlier=0.05, depends_on={'z': 'condition', 'v': ['stim', 'condition']})\n",
    "full_model.find_starting_values()\n",
    "full_model.sample(samples, burn=samples/10, thin=2, dbname='full_100000_traces.db', db='pickle')\n",
    "full_model.save('full_100000')"
   ]
  },
  {
   "cell_type": "code",
   "execution_count": 2,
   "metadata": {
    "collapsed": true
   },
   "outputs": [],
   "source": [
    "def compare_post(vS, vF):\n",
    "    hddm.analyze.plot_posterior_nodes([vS, vF])\n",
    "    plt.xlabel('drift-rate')\n",
    "    plt.ylabel('Posterior probability')\n",
    "    plt.title('Posterior of drift-rate group means')\n",
    "    plt.show()\n",
    "    print \"P_v(S > F) = \", (vS.trace() > vF.trace()).mean()"
   ]
  },
  {
   "cell_type": "code",
   "execution_count": 3,
   "metadata": {
    "collapsed": true
   },
   "outputs": [],
   "source": [
    "full_model = hddm.load(\"full_100000\")"
   ]
  },
  {
   "cell_type": "markdown",
   "metadata": {},
   "source": [
    "### Save trace for each parameter"
   ]
  },
  {
   "cell_type": "code",
   "execution_count": 5,
   "metadata": {
    "collapsed": true
   },
   "outputs": [],
   "source": [
    "# -5\n",
    "vS, vF = full_model.nodes_db.node[['v(-1.0.-5.0)', 'v(1.0.-5.0)']]\n",
    "allParms = vS.trace()\n",
    "allParms = np.column_stack([allParms,vF.trace()])\n",
    "\n",
    "# -1.5\n",
    "vS, vF = full_model.nodes_db.node[['v(-1.0.-1.5)', 'v(1.0.-1.5)']]\n",
    "allParms = np.column_stack([allParms,vS.trace(),vF.trace()])\n",
    "\n",
    "# -1\n",
    "vS, vF = full_model.nodes_db.node[['v(-1.0.-1.0)', 'v(1.0.-1.0)']]\n",
    "allParms = np.column_stack([allParms,vS.trace(),vF.trace()])\n",
    "\n",
    "# -0.5\n",
    "vS, vF = full_model.nodes_db.node[['v(-1.0.-0.5)', 'v(1.0.-0.5)']]\n",
    "allParms = np.column_stack([allParms,vS.trace(),vF.trace()])\n",
    "\n",
    "# 0\n",
    "vS, vF = full_model.nodes_db.node[['v(-1.0.0.0)', 'v(1.0.0.0)']]\n",
    "allParms = np.column_stack([allParms,vS.trace(),vF.trace()])\n",
    "\n",
    "# -0.5\n",
    "vS, vF = full_model.nodes_db.node[['v(-1.0.0.5)', 'v(1.0.0.5)']]\n",
    "allParms = np.column_stack([allParms,vS.trace(),vF.trace()])\n",
    "\n",
    "# 1\n",
    "vS, vF = full_model.nodes_db.node[['v(-1.0.1.0)', 'v(1.0.1.0)']]\n",
    "allParms = np.column_stack([allParms,vS.trace(),vF.trace()])\n",
    "\n",
    "# 1.5\n",
    "vS, vF = full_model.nodes_db.node[['v(-1.0.1.5)', 'v(1.0.1.5)']]\n",
    "allParms = np.column_stack([allParms,vS.trace(),vF.trace()])\n",
    "\n",
    "# 5\n",
    "vS, vF = full_model.nodes_db.node[['v(-1.0.5.0)', 'v(1.0.5.0)']]\n",
    "allParms = np.column_stack([allParms,vS.trace(),vF.trace()])\n",
    "\n",
    "# z\n",
    "zS, zF = full_model.nodes_db.node[['z(-1)', 'z(1)']]\n",
    "allParms = np.column_stack([allParms,zS.trace(),zF.trace()])\n",
    "\n",
    "# a \n",
    "a, t = full_model.nodes_db.node[['a', 't']]\n",
    "allParms = np.column_stack([allParms,a.trace(),t.trace()])\n",
    "\n",
    "#allParms\n",
    "numpy.savetxt(\"../data/HDDM/full_100000_ParmsTrace.csv\", allParms , delimiter=\",\")"
   ]
  },
  {
   "cell_type": "code",
   "execution_count": 6,
   "metadata": {},
   "outputs": [
    {
     "name": "stdout",
     "output_type": "stream",
     "text": [
      "Full Model DIC: 10880.458956\n"
     ]
    }
   ],
   "source": [
    "print \"Full Model DIC: %f\" % full_model.dic"
   ]
  },
  {
   "cell_type": "markdown",
   "metadata": {},
   "source": [
    "### Simulate data from posterior"
   ]
  },
  {
   "cell_type": "code",
   "execution_count": null,
   "metadata": {
    "collapsed": true
   },
   "outputs": [],
   "source": [
    "ppc_data = hddm.utils.post_pred_gen(full_model,append_data=True)\n",
    "np.savetxt(\"../data/full_100000_ppc_data.csv\", ppc_data, delimiter=\",\")"
   ]
  },
  {
   "cell_type": "markdown",
   "metadata": {},
   "source": [
    "## Run Model with varying drift rate"
   ]
  },
  {
   "cell_type": "code",
   "execution_count": null,
   "metadata": {
    "collapsed": true
   },
   "outputs": [],
   "source": [
    "drift_model = hddm.HDDM(data, bias=True, p_outlier=0.05, depends_on={'v': ['stim', 'condition']})\n",
    "drift_model.find_starting_values()\n",
    "drift_model.sample(samples, burn=samples/10, thin=2, dbname='drift_100000_traces.db', db='pickle')\n",
    "drift_model.save('drift_100000')"
   ]
  },
  {
   "cell_type": "code",
   "execution_count": 7,
   "metadata": {
    "collapsed": true
   },
   "outputs": [],
   "source": [
    "drift_model = hddm.load(\"drift_100000\")"
   ]
  },
  {
   "cell_type": "code",
   "execution_count": 8,
   "metadata": {},
   "outputs": [
    {
     "name": "stdout",
     "output_type": "stream",
     "text": [
      "Drift Model DIC: 10900.894189\n"
     ]
    }
   ],
   "source": [
    "print \"Drift Model DIC: %f\" % drift_model.dic"
   ]
  },
  {
   "cell_type": "markdown",
   "metadata": {},
   "source": [
    "## Run Model with varying starting point"
   ]
  },
  {
   "cell_type": "code",
   "execution_count": null,
   "metadata": {
    "collapsed": true
   },
   "outputs": [],
   "source": [
    "bias_model = hddm.HDDM(data, bias=True, p_outlier=0.05, depends_on={'z': 'condition', 'v':'stim'})\n",
    "bias_model.find_starting_values()\n",
    "bias_model.sample(samples, burn=samples/10, thin=2, dbname='bias_100000_traces.db', db='pickle')\n",
    "bias_model.save('bias_100000')"
   ]
  },
  {
   "cell_type": "code",
   "execution_count": 9,
   "metadata": {
    "collapsed": true
   },
   "outputs": [],
   "source": [
    "bias_model = hddm.load(\"bias_100000\")"
   ]
  },
  {
   "cell_type": "code",
   "execution_count": 10,
   "metadata": {},
   "outputs": [
    {
     "name": "stdout",
     "output_type": "stream",
     "text": [
      "Bias Model DIC: 10889.042907\n"
     ]
    }
   ],
   "source": [
    "print \"Bias Model DIC: %f\" % bias_model.dic"
   ]
  }
 ],
 "metadata": {
  "kernelspec": {
   "display_name": "Python 2",
   "language": "python",
   "name": "python2"
  },
  "language_info": {
   "codemirror_mode": {
    "name": "ipython",
    "version": 2
   },
   "file_extension": ".py",
   "mimetype": "text/x-python",
   "name": "python",
   "nbconvert_exporter": "python",
   "pygments_lexer": "ipython2",
   "version": "2.7.13"
  }
 },
 "nbformat": 4,
 "nbformat_minor": 2
}
