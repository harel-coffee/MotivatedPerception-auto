{
 "cells": [
  {
   "cell_type": "markdown",
   "metadata": {},
   "source": [
    "## z & v model\n",
    "Rerun model using HDDM regression - but with the least number of parameters\n"
   ]
  },
  {
   "cell_type": "code",
   "execution_count": null,
   "metadata": {
    "scrolled": false
   },
   "outputs": [],
   "source": [
    "import pandas as pd\n",
    "import matplotlib.pyplot as plt\n",
    "import hddm\n",
    "import numpy as np\n",
    "import patsy \n",
    "\n",
    "samples = 20000\n",
    "\n",
    "data = hddm.load_csv('../data/DDM_data.csv')"
   ]
  },
  {
   "cell_type": "code",
   "execution_count": null,
   "metadata": {
    "collapsed": true
   },
   "outputs": [],
   "source": [
    "def z_link_func(x, data=data):\n",
    "    return 1 / (1 + np.exp(-(x)))"
   ]
  },
  {
   "cell_type": "code",
   "execution_count": null,
   "metadata": {},
   "outputs": [],
   "source": [
    "v_reg = {'model': 'v ~ 1 + condition + stim', 'link_func': lambda x: x}\n",
    "z_reg = {'model': 'z ~ 1 + condition', 'link_func': z_link_func}\n",
    "\n",
    "reg_descr = [v_reg, z_reg]\n",
    "\n",
    "simpleFull = hddm.models.HDDMRegressor(data, reg_descr,\n",
    "                                       bias=True, p_outlier=0.05,\n",
    "                                       group_only_regressors=False)\n",
    "\n",
    "simpleFull.sample(samples, burn=samples/10, thin=2)"
   ]
  },
  {
   "cell_type": "code",
   "execution_count": null,
   "metadata": {
    "scrolled": true
   },
   "outputs": [],
   "source": [
    "print \"Full Model DIC: %f\" % simpleFull.dic"
   ]
  },
  {
   "cell_type": "markdown",
   "metadata": {},
   "source": [
    "#### Extract model parameters"
   ]
  },
  {
   "cell_type": "code",
   "execution_count": null,
   "metadata": {
    "collapsed": true
   },
   "outputs": [],
   "source": [
    "stats = simpleFull.gen_stats()\n",
    "stats.to_csv('../data/model_outputs/subject_parms/simpleFull_parms.csv')"
   ]
  },
  {
   "cell_type": "code",
   "execution_count": null,
   "metadata": {
    "collapsed": true
   },
   "outputs": [],
   "source": [
    "vc, zc = simpleFull.nodes_db.node[['v_condition', 'z_condition']]\n",
    "allParms = vc.trace()\n",
    "allParms = np.column_stack([allParms,zc.trace()])\n",
    "\n",
    "np.savetxt(\"../data/model_outputs/trace_processed/simpleFull_trace.csv\", allParms , delimiter=\",\")"
   ]
  },
  {
   "cell_type": "code",
   "execution_count": null,
   "metadata": {
    "collapsed": true
   },
   "outputs": [],
   "source": [
    "# Save all parameters\n",
    "a, t = simpleFull.nodes_db.node[['a', 't']]\n",
    "\n",
    "z_m,z_0 = simpleFull.nodes_db.node[['z_condition', 'z_Intercept']] \n",
    "\n",
    "v_m,v_s,v_0 = simpleFull.nodes_db.node[['v_condition', 'v_stim', 'v_Intercept']] \n",
    "\n",
    "allParms = a.trace()\n",
    "allParms = np.column_stack([allParms,t.trace()])\n",
    "allParms = np.column_stack([allParms,z_m.trace(),z_0.trace()])\n",
    "allParms = np.column_stack([allParms,v_m.trace(),v_s.trace(),v_0.trace()])\n",
    "\n",
    "np.savetxt(\"../data/model_outputs/trace_processed/simpleFull_trace_all.csv\", allParms , delimiter=\",\")"
   ]
  },
  {
   "cell_type": "code",
   "execution_count": null,
   "metadata": {
    "collapsed": true
   },
   "outputs": [],
   "source": [
    "# ppc_data = hddm.utils.post_pred_gen(simpleFull,append_data=True)\n",
    "ppc_data = post_pred_gen(simpleFull, append_data=True)\n",
    "np.savetxt(\"../data/model_outputs/ppc/simpleFull_ppc.csv\", ppc_data, delimiter=\",\")"
   ]
  },
  {
   "cell_type": "markdown",
   "metadata": {
    "collapsed": true
   },
   "source": [
    "## v model"
   ]
  },
  {
   "cell_type": "code",
   "execution_count": null,
   "metadata": {},
   "outputs": [],
   "source": [
    "v_reg = {'model': 'v ~ 1 + condition + stim', 'link_func': lambda x: x}\n",
    "z_reg = {'model': 'z ~ 1', 'link_func': z_link_func}\n",
    "\n",
    "reg_descr = [v_reg, z_reg]\n",
    "\n",
    "simpleDrift = hddm.models.HDDMRegressor(data, reg_descr,\n",
    "                                       bias=True, p_outlier=0.05,\n",
    "                                       group_only_regressors=False)\n",
    "\n",
    "simpleDrift.sample(samples, burn=samples/10, thin=2)"
   ]
  },
  {
   "cell_type": "code",
   "execution_count": null,
   "metadata": {
    "collapsed": true
   },
   "outputs": [],
   "source": [
    "stats = simpleDrift.gen_stats()\n",
    "stats.to_csv('../data/model_outputs/subject_parms/simpleDrift_parms.csv')"
   ]
  },
  {
   "cell_type": "code",
   "execution_count": null,
   "metadata": {
    "collapsed": true
   },
   "outputs": [],
   "source": [
    "print \"Drift Model DIC: %f\" % simpleDrift.dic"
   ]
  },
  {
   "cell_type": "code",
   "execution_count": null,
   "metadata": {
    "collapsed": true
   },
   "outputs": [],
   "source": [
    "# Save all parameters\n",
    "a, t = simpleDrift.nodes_db.node[['a', 't']]\n",
    "\n",
    "z_0 = simpleDrift.nodes_db.node['z_Intercept']\n",
    "\n",
    "v_m,v_s,v_0 = simpleDrift.nodes_db.node[['v_condition', 'v_stim','v_Intercept']] \n",
    "\n",
    "allParms = a.trace()\n",
    "allParms = np.column_stack([allParms,t.trace()])\n",
    "allParms = np.column_stack([allParms,z_0.trace()])\n",
    "allParms = np.column_stack([allParms,v_m.trace(),v_s.trace(),v_0.trace()])\n",
    "\n",
    "np.savetxt(\"../data/model_outputs/trace_processed/simpleDrift_trace_all.csv\", allParms , delimiter=\",\")"
   ]
  },
  {
   "cell_type": "code",
   "execution_count": null,
   "metadata": {
    "collapsed": true,
    "scrolled": true
   },
   "outputs": [],
   "source": [
    "ppc_data = post_pred_gen(simpleDrift, append_data=True)\n",
    "np.savetxt(\"../data/model_outputs/ppc/simpleDrift_ppc.csv\", ppc_data, delimiter=\",\")"
   ]
  },
  {
   "cell_type": "markdown",
   "metadata": {},
   "source": [
    "## z model"
   ]
  },
  {
   "cell_type": "code",
   "execution_count": null,
   "metadata": {},
   "outputs": [],
   "source": [
    "v_reg = {'model': 'v ~ 1 + stim', 'link_func': lambda x: x}\n",
    "z_reg = {'model': 'z ~ 1 + condition', 'link_func': z_link_func}\n",
    "\n",
    "reg_descr = [v_reg, z_reg]\n",
    "\n",
    "simpleBias = hddm.models.HDDMRegressor(data, reg_descr,\n",
    "                                       bias=True, p_outlier=0.05,\n",
    "                                       group_only_regressors=False)\n",
    "\n",
    "simpleBias.sample(samples, burn=samples/10, thin=2)"
   ]
  },
  {
   "cell_type": "code",
   "execution_count": null,
   "metadata": {
    "collapsed": true
   },
   "outputs": [],
   "source": [
    "stats = simpleBias.gen_stats()\n",
    "stats.to_csv('../data/model_outputs/subject_parms/simpleBias_parms.csv')"
   ]
  },
  {
   "cell_type": "code",
   "execution_count": null,
   "metadata": {
    "collapsed": true
   },
   "outputs": [],
   "source": [
    "print \"Bias Model DIC: %f\" % simpleBias.dic"
   ]
  },
  {
   "cell_type": "code",
   "execution_count": null,
   "metadata": {
    "collapsed": true
   },
   "outputs": [],
   "source": [
    "# Save all parameters\n",
    "a, t = simpleBias.nodes_db.node[['a', 't']]\n",
    "\n",
    "z_m,z_0 = simpleBias.nodes_db.node[['z_condition', 'z_Intercept']] \n",
    "\n",
    "v_s,v_0 = simpleBias.nodes_db.node[['v_stim','v_Intercept']] \n",
    "\n",
    "allParms = a.trace()\n",
    "allParms = np.column_stack([allParms,t.trace()])\n",
    "allParms = np.column_stack([allParms,z_m.trace(),z_0.trace()])\n",
    "allParms = np.column_stack([allParms,v_s.trace(),v_0.trace()])\n",
    "\n",
    "np.savetxt(\"../data/model_outputs/trace_processed/simpleBias_trace_all.csv\", allParms , delimiter=\",\")"
   ]
  },
  {
   "cell_type": "code",
   "execution_count": null,
   "metadata": {},
   "outputs": [],
   "source": [
    "ppc_data = post_pred_gen(simpleBias, append_data=True)\n",
    "np.savetxt(\"../data/model_outputs/ppc/simpleBias_ppc.csv\", ppc_data, delimiter=\",\")"
   ]
  },
  {
   "cell_type": "markdown",
   "metadata": {},
   "source": [
    "## Null Model"
   ]
  },
  {
   "cell_type": "code",
   "execution_count": null,
   "metadata": {},
   "outputs": [],
   "source": [
    "v_reg = {'model': 'v ~ 1 + stim', 'link_func': lambda x: x}\n",
    "z_reg = {'model': 'z ~ 1', 'link_func': z_link_func}\n",
    "\n",
    "reg_descr = [v_reg, z_reg]\n",
    "\n",
    "simpleNull = hddm.models.HDDMRegressor(data, reg_descr,\n",
    "                                       bias=True, p_outlier=0.05,\n",
    "                                       group_only_regressors=False)\n",
    "\n",
    "simpleNull.sample(samples, burn=samples/10, thin=2)"
   ]
  },
  {
   "cell_type": "code",
   "execution_count": null,
   "metadata": {
    "collapsed": true
   },
   "outputs": [],
   "source": [
    "stats = simpleNull.gen_stats()\n",
    "stats.to_csv('../data/model_outputs/subject_parms/simpleNull_parms.csv')"
   ]
  },
  {
   "cell_type": "code",
   "execution_count": null,
   "metadata": {
    "collapsed": true
   },
   "outputs": [],
   "source": [
    "print \"Null Model DIC: %f\" % simpleNull.dic"
   ]
  },
  {
   "cell_type": "code",
   "execution_count": null,
   "metadata": {
    "collapsed": true
   },
   "outputs": [],
   "source": [
    "# Save all parameters\n",
    "a, t = simpleNull.nodes_db.node[['a', 't']]\n",
    "\n",
    "z_0 = simpleNull.nodes_db.node['z_Intercept']\n",
    "\n",
    "v_s,v_0 = simpleNull.nodes_db.node[['v_stim','v_Intercept']] \n",
    "\n",
    "allParms = a.trace()\n",
    "allParms = np.column_stack([allParms,t.trace()])\n",
    "allParms = np.column_stack([allParms,z_0.trace()])\n",
    "allParms = np.column_stack([allParms,v_s.trace(),v_0.trace()])\n",
    "\n",
    "np.savetxt(\"../data/model_outputs/trace_processed/simpleNull_trace_all.csv\", allParms , delimiter=\",\")"
   ]
  },
  {
   "cell_type": "code",
   "execution_count": null,
   "metadata": {
    "collapsed": true
   },
   "outputs": [],
   "source": [
    "ppc_data = post_pred_gen(simpleNull, append_data=True)\n",
    "np.savetxt(\"../data/model_outputs/ppc/simpleNull_ppc.csv\", ppc_data, delimiter=\",\")"
   ]
  },
  {
   "cell_type": "markdown",
   "metadata": {},
   "source": [
    "### Patch to run PPC"
   ]
  },
  {
   "cell_type": "code",
   "execution_count": null,
   "metadata": {
    "collapsed": true
   },
   "outputs": [],
   "source": [
    "import pymc as pm\n",
    "import numpy as np\n",
    "import pymc.progressbar as pbar\n",
    "\n",
    "def _parents_to_random_posterior_sample(bottom_node, pos=None):\n",
    "    \"\"\"Walks through parents and sets them to pos sample.\"\"\"\n",
    "    for i, parent in enumerate(bottom_node.extended_parents):\n",
    "        if not isinstance(parent, pm.Node): # Skip non-stochastic nodes\n",
    "            continue\n",
    "\n",
    "        if pos is None:\n",
    "            # Set to random posterior position\n",
    "            pos = np.random.randint(0, len(parent.trace()))\n",
    "\n",
    "        assert len(parent.trace()) >= pos, \"pos larger than posterior sample size\"\n",
    "        parent.value = parent.trace()[pos]\n",
    "\n",
    "def _post_pred_generate(bottom_node, samples=500, data=None, append_data=True):\n",
    "    \"\"\"Generate posterior predictive data from a single observed node.\"\"\"\n",
    "    datasets = []\n",
    "    ##############################\n",
    "    # Sample and generate stats\n",
    "    for sample in range(samples):\n",
    "        _parents_to_random_posterior_sample(bottom_node)\n",
    "        # Generate data from bottom node\n",
    "        sampled_data = bottom_node.random()\n",
    "        if append_data and data is not None:\n",
    "            sampled_data.reset_index(inplace=True)  # Only modification of original Kabuki code\n",
    "            sampled_data = sampled_data.join(data.reset_index(), lsuffix='_sampled')\n",
    "        datasets.append(sampled_data)\n",
    "    return datasets\n",
    "\n",
    "def post_pred_gen(model, groupby=None, samples=500, append_data=False, progress_bar=True):\n",
    "    results = {}\n",
    "\n",
    "    # Progress bar\n",
    "    if progress_bar:\n",
    "        n_iter = len(model.get_observeds())\n",
    "        bar = pbar.progress_bar(n_iter)\n",
    "        bar_iter = 0\n",
    "    else:\n",
    "        print(\"Sampling...\")\n",
    "\n",
    "    if groupby is None:\n",
    "        iter_data = ((name, model.data.ix[obs['node'].value.index]) for name, obs in model.iter_observeds())\n",
    "    else:\n",
    "        iter_data = model.data.groupby(groupby)\n",
    "\n",
    "    for name, data in iter_data:\n",
    "        node = model.get_data_nodes(data.index)\n",
    "\n",
    "        if progress_bar:\n",
    "            bar_iter += 1\n",
    "            bar.update(bar_iter)\n",
    "\n",
    "        if node is None or not hasattr(node, 'random'):\n",
    "            continue # Skip\n",
    "\n",
    "        ##############################\n",
    "        # Sample and generate stats\n",
    "        datasets = _post_pred_generate(node, samples=samples, data=data, append_data=append_data)\n",
    "        results[name] = pd.concat(datasets, names=['sample'], keys=list(range(len(datasets))))\n",
    "\n",
    "    if progress_bar:\n",
    "        bar_iter += 1\n",
    "        bar.update(bar_iter)\n",
    "\n",
    "    return pd.concat(results, names=['node'])"
   ]
  }
 ],
 "metadata": {
  "kernelspec": {
   "display_name": "Python 2",
   "language": "python",
   "name": "python2"
  },
  "language_info": {
   "codemirror_mode": {
    "name": "ipython",
    "version": 2
   },
   "file_extension": ".py",
   "mimetype": "text/x-python",
   "name": "python",
   "nbconvert_exporter": "python",
   "pygments_lexer": "ipython2",
   "version": "2.7.13"
  }
 },
 "nbformat": 4,
 "nbformat_minor": 2
}
